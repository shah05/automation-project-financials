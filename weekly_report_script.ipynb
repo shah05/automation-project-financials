{
 "cells": [
  {
   "cell_type": "code",
   "execution_count": 1,
   "metadata": {},
   "outputs": [],
   "source": [
    "import pandas as pd"
   ]
  },
  {
   "cell_type": "code",
   "execution_count": 2,
   "metadata": {},
   "outputs": [],
   "source": [
    "import numpy as np"
   ]
  },
  {
   "cell_type": "markdown",
   "metadata": {},
   "source": [
    "## Part A : Data Massage\n",
    "\n",
    "### 1. Declare input file names.\n",
    "\n",
    "File needs to be in CSV format for faster loading.\n",
    "\n",
    "#### Input 1 = ME2L_W01.CSV\n",
    "#### Input 2 = ME2L_W02.CSV\n",
    "\n",
    "Place the 2 input files in the current directory as the script file."
   ]
  },
  {
   "cell_type": "code",
   "execution_count": 3,
   "metadata": {},
   "outputs": [],
   "source": [
    "# import time\n",
    "# start = time.time()\n",
    "# me2l_w01_file = \"test/me2l_w01x.xlsx\"\n",
    "# df1 = pd.read_excel(me2l_w01_file,sheet_name='Raw');\n",
    "# end = time.time()\n",
    "# print(end - start)"
   ]
  },
  {
   "cell_type": "code",
   "execution_count": 4,
   "metadata": {},
   "outputs": [],
   "source": [
    "me2l_w01_file = \"test/me2l_w01.csv\"\n",
    "me2l_w02_file = \"test/me2l_w02.csv\""
   ]
  },
  {
   "cell_type": "markdown",
   "metadata": {},
   "source": [
    "### 2. Read input files\n",
    "\n",
    "If file contains large data sets with alot of columns, reading will take a bit of time."
   ]
  },
  {
   "cell_type": "code",
   "execution_count": 5,
   "metadata": {},
   "outputs": [
    {
     "name": "stderr",
     "output_type": "stream",
     "text": [
      "C:\\Users\\TM36250\\Anaconda3\\lib\\site-packages\\IPython\\core\\interactiveshell.py:3146: DtypeWarning: Columns (5,9,12,14) have mixed types.Specify dtype option on import or set low_memory=False.\n",
      "  has_raised = await self.run_ast_nodes(code_ast.body, cell_name,\n"
     ]
    }
   ],
   "source": [
    "# Load first input file\n",
    "df1 = pd.read_csv(me2l_w01_file,parse_dates=True, encoding='ISO-8859-1');\n",
    "# df1.head()"
   ]
  },
  {
   "cell_type": "code",
   "execution_count": 6,
   "metadata": {},
   "outputs": [],
   "source": [
    "# Load second input file\n",
    "df2 = pd.read_csv(me2l_w02_file,parse_dates=True);\n",
    "# df2.head()"
   ]
  },
  {
   "cell_type": "markdown",
   "metadata": {},
   "source": [
    "### 3. Extract PO with correct CAPEX Category from ME2L_W02 \n",
    "\n",
    "Capex Category = (A, N, P, X).\n",
    "But how to check if the project is deployment,operation related ? Any keyword or vendor as filters ?"
   ]
  },
  {
   "cell_type": "code",
   "execution_count": 7,
   "metadata": {},
   "outputs": [],
   "source": [
    "capex_w02 = df2[(df2['Acct Assignment Cat.'] == 'A') |\n",
    "                (df2['Acct Assignment Cat.'] == 'N') |\n",
    "                (df2['Acct Assignment Cat.'] == 'P') |\n",
    "                (df2['Acct Assignment Cat.'] == 'X')]"
   ]
  },
  {
   "cell_type": "markdown",
   "metadata": {},
   "source": [
    "### 4. Append extraction from ME2L_W02 to ME2L_W01\n",
    "\n",
    "Data will be pasted at the bottom of ME2L_W01 data set."
   ]
  },
  {
   "cell_type": "code",
   "execution_count": 8,
   "metadata": {},
   "outputs": [],
   "source": [
    "df1.append(capex_w02);"
   ]
  },
  {
   "cell_type": "markdown",
   "metadata": {},
   "source": [
    "### 5. Remove unwanted columns.\n",
    "\n",
    "This will allow processing of data faster since unwanted data is discarded.Columns removed:\n",
    "- Deletion Indicator\n",
    "- Req. Tracking Number"
   ]
  },
  {
   "cell_type": "code",
   "execution_count": 9,
   "metadata": {},
   "outputs": [],
   "source": [
    "df1.drop(columns=['Deletion Indicator','Req. Tracking Number'],inplace=True);"
   ]
  },
  {
   "attachments": {},
   "cell_type": "markdown",
   "metadata": {},
   "source": [
    "### 6. Insert 'Vendor Code' and 'Vendor' column at the begining.\n",
    "\n",
    "Extract Vendor Code info and Vendor Name info from 'Vendor/supplying plant' column.\n",
    "\n",
    "Based on old SAP entries there are multiple Vendor Code entries which are similar but Vendor name spelling is different. Example:\n",
    "- Vendor Code = 1107060 , Vendor Name = Corporation A Sdn. Bhd.\n",
    "- Vendor Code = 1107060 , Vendor Name = Corporation A Technologies\n",
    "\n",
    "\n",
    "Need to rearrange all PO so that it is assigned to one unique Vendor Code and one Vendor Name. So that in final summary there are no multiple vendor name entries that refers to a single vendor.\n",
    "\n",
    "Once this process done, remove the 'Vendor/supplying plant' column since it is redundant."
   ]
  },
  {
   "cell_type": "code",
   "execution_count": 10,
   "metadata": {},
   "outputs": [],
   "source": [
    "#Extract Vendor code and Vendor name and insert as new columns\n",
    "extract_vendor = df1[\"Vendor/supplying plant\"].str.split(\" \", n = 1, expand = True) \n",
    "df1.insert(0,'Vendor Code', extract_vendor[0]);\n",
    "df1.insert(1,'Vendor', extract_vendor[1]);\n",
    "\n",
    "#Create a separate dataframe for vendor code and vendor name\n",
    "vendor_list={'Vendor Code': extract_vendor[0],'Vendor Unique': extract_vendor[1]}\n",
    "df_vendor = pd.DataFrame(vendor_list, columns = ['Vendor Code', 'Vendor Unique'])\n",
    "\n",
    "#Remove duplicate entries in vendor dataframe\n",
    "df_vendor.drop_duplicates(inplace=True)\n",
    "#Remove duplicates in vendor code but having multiple versions of vendor name. Only keep the first one found. \n",
    "#There will only be one 1x vendor code tied to 1x vendor name.\n",
    "df_vendor.drop_duplicates(subset='Vendor Code',keep='first',inplace=True)\n",
    "#Sort the values in ascending manner\n",
    "df_vendor.sort_values(by=['Vendor Code'],inplace=True)\n",
    "\n",
    "#Vlookup between both df1 and df_vendor to streamline the vendor name.\n",
    "df1 = pd.merge(df1,df_vendor,on ='Vendor Code',how ='inner')\n",
    "#Drop the initial Vendor column and Vendor/supplying plant\n",
    "df1.drop(columns=['Vendor'],inplace=True)\n",
    "df1.drop(columns=['Vendor/supplying plant','Outline Agreement'],inplace=True)\n",
    "\n",
    "#Rename Vendor name columns\n",
    "df1.rename(columns={'Vendor Unique': 'Vendor'}, inplace=True)\n",
    "\n",
    "#Rearrange columns to place vendor name in 2nd position.\n",
    "df1 = df1[['Vendor Code','Vendor', 'Purchasing Document', 'Short Text', 'Currency',\n",
    "       'Acct Assignment Cat.', 'Document Date', 'Order Quantity', 'Net price',\n",
    "       'Net Order Value', 'Still to be delivered (qty)',\n",
    "       'Still to be delivered (value)', 'Still to be invoiced (qty)',\n",
    "       'Still to be invoiced (val.)']]"
   ]
  },
  {
   "cell_type": "markdown",
   "metadata": {},
   "source": [
    "### 7. Classify each PO according to CAPEX/OPEX category.\n",
    "\n",
    "Use values from 'Acc Assignment Cat.' as reference for classification.\n",
    "- CAPEX (A, N, P, X)\n",
    "- OPEX (F, K, Blank)\n",
    "\n",
    "Add a new column called 'Capex/Opex' at the end of the data set."
   ]
  },
  {
   "cell_type": "code",
   "execution_count": 11,
   "metadata": {},
   "outputs": [],
   "source": [
    "#Add Capex/Opex Category\n",
    "df1.loc[ (df1['Acct Assignment Cat.'] == 'A') |\n",
    "        (df1['Acct Assignment Cat.'] == 'N') |\n",
    "        (df1['Acct Assignment Cat.'] == 'P') |\n",
    "        (df1['Acct Assignment Cat.'] == 'X'),'Capex/Opex'] = 'CAPEX'\n",
    "\n",
    "df1.loc[ (df1['Acct Assignment Cat.'] == 'F') |\n",
    "        (df1['Acct Assignment Cat.'] == 'K') |\n",
    "        (df1['Acct Assignment Cat.'] == ''),'Capex/Opex'] = 'OPEX'"
   ]
  },
  {
   "cell_type": "markdown",
   "metadata": {},
   "source": [
    "### 8. Calculate Aging, PO Category & PO Year\n",
    "\n",
    "Add 2 new columns to input the Aging info:\n",
    "- 'Aging' = shows aging in number of days\n",
    "- 'Aging (Months & Days)' = shows aging in number of months and remaining days\n",
    "\n",
    "Check PO Category if the value in 'Document Date' column is similar to current year. If not then PO < Current Year\n",
    "\n",
    "Check PO Year using the 'Document Date' column. Extract year info."
   ]
  },
  {
   "cell_type": "code",
   "execution_count": 12,
   "metadata": {},
   "outputs": [
    {
     "name": "stdout",
     "output_type": "stream",
     "text": [
      "19.40033984184265\n"
     ]
    }
   ],
   "source": [
    "import datetime\n",
    "\n",
    "import time\n",
    "start = time.time()\n",
    "\n",
    "def calculate_aging_days(doc_date,date_now):\n",
    "    po_date = datetime.datetime.strptime(doc_date, '%d/%m/%Y')\n",
    "    delta = now - po_date\n",
    "    return int(delta.days)\n",
    "\n",
    "def calculate_aging_months_days(aging_days):\n",
    "    months = int(aging_days/30)\n",
    "    remaining_days = int(aging_days%30)\n",
    "    return str(months) + ' months ' + str(remaining_days) + ' days'\n",
    "\n",
    "def assign_po_year(doc_date):\n",
    "    po_date = datetime.datetime.strptime(doc_date, '%d/%m/%Y')\n",
    "    return po_date.year\n",
    "\n",
    "def assign_po_category(doc_date,current_year):\n",
    "    po_date = datetime.datetime.strptime(doc_date, '%d/%m/%Y')\n",
    "    return 'PO ' + str(now.year) if  po_date.year == now.year else 'PO <' + str(now.year)\n",
    "\n",
    "now = datetime.datetime.now()\n",
    "df1['Aging Days'] = df1.apply(lambda row: calculate_aging_days(row['Document Date'],now),axis=1)\n",
    "# df1['PO Year'] =  datetime.datetime.now().year\n",
    "df1['PO Year'] = df1.apply(lambda row: assign_po_year(row['Document Date']),axis=1)\n",
    "df1['PO Category'] = df1.apply(lambda row: assign_po_category(row['Document Date'],datetime.datetime.now().year),axis=1)\n",
    "df1['Aging (Months & Days)'] = df1.apply(lambda row: calculate_aging_months_days(row['Aging Days']),axis=1)\n",
    "\n",
    "# df1.at[i,'PO Year'] = po_date.year\\n\",\n",
    "#     \"    # Determine PO Category\\n\",\n",
    "#     \"    df1.at[i,'PO Category'] = 'PO ' + str(now.year) if  po_date == now.year else 'PO <' + str(now.year)\\n\"\n",
    "\n",
    "end = time.time()\n",
    "print(end - start)"
   ]
  },
  {
   "cell_type": "markdown",
   "metadata": {},
   "source": [
    "### 9. Calculate Aging Category\n",
    "\n",
    "Classify each PO into the following categories:\n",
    "- ( <6 Months )\n",
    "- ( >6 Months )\n",
    "- ( >18 Months )\n",
    "\n",
    "Add a new column 'Aging Category' at the end."
   ]
  },
  {
   "cell_type": "code",
   "execution_count": 13,
   "metadata": {},
   "outputs": [
    {
     "name": "stdout",
     "output_type": "stream",
     "text": [
      "done\n"
     ]
    }
   ],
   "source": [
    "\n",
    "df1.loc[ (df1['Aging Days'] <= 182),'Aging Category'] = '<6 Months'\n",
    "df1.loc[ (df1['Aging Days'] > 182) & (df1['Aging Days'] < 540),'Aging Category'] = '>6 Months'\n",
    "df1.loc[ (df1['Aging Days'] > 540),'Aging Category'] = '>18 Months'\n",
    "print('done')\n"
   ]
  },
  {
   "cell_type": "markdown",
   "metadata": {},
   "source": [
    "### 10. Assign GR status\n",
    "\n",
    "Status can either be 'Open' or 'Closed' depending on there are still value to be delivered. Use the column 'Still to be delivered (value)' as reference."
   ]
  },
  {
   "cell_type": "code",
   "execution_count": 14,
   "metadata": {},
   "outputs": [
    {
     "name": "stdout",
     "output_type": "stream",
     "text": [
      "done\n"
     ]
    }
   ],
   "source": [
    "\n",
    "df1['Still to be delivered (value)'] = df1['Still to be delivered (value)'].str.replace(',','')\n",
    "df1['Still to be delivered (value)'] = df1['Still to be delivered (value)'].astype(float)\n",
    "df1.loc[ (df1['Still to be delivered (value)'] > 0),'GR Status'] = 'Open'\n",
    "df1.loc[ (df1['Still to be delivered (value)'] == 0),'GR Status'] = 'Closed'\n",
    "print('done')\n"
   ]
  },
  {
   "cell_type": "markdown",
   "metadata": {},
   "source": [
    "### 11. Assign GRIR Status\n",
    "Status can be either 'Open' or 'Closed' depending on value in column 'Still to be invoiced (val.)'"
   ]
  },
  {
   "cell_type": "code",
   "execution_count": 15,
   "metadata": {},
   "outputs": [
    {
     "name": "stdout",
     "output_type": "stream",
     "text": [
      "done\n"
     ]
    }
   ],
   "source": [
    "df1['Still to be invoiced (val.)'] = df1['Still to be invoiced (val.)'].str.replace(',','')\n",
    "df1['Still to be invoiced (val.)'] = df1['Still to be invoiced (val.)'].astype(float)\n",
    "df1['GRIR Status'] = df1['Still to be invoiced (val.)'].apply(lambda x: 'Open' if x > -0.1 and x < 0.1 else 'Closed')\n",
    "\n",
    "print('done')"
   ]
  },
  {
   "cell_type": "markdown",
   "metadata": {},
   "source": [
    "### 12. Assign PO Category\n"
   ]
  },
  {
   "cell_type": "code",
   "execution_count": 16,
   "metadata": {},
   "outputs": [
    {
     "name": "stdout",
     "output_type": "stream",
     "text": [
      "done\n"
     ]
    }
   ],
   "source": [
    "# df1.loc[ (df1['GR Status'] == 'Closed') & (df1['GRIR Status'] == 'Closed'),'PO Status'] = 'Closed'\n",
    "# df1.loc[ (df1['GR Status'] == 'Open') | (df1['GRIR Status'] == 'Open'),'PO Status'] = 'Open'\n",
    "\n",
    "df1['PO Status'] = np.where((df1['GR Status'] == 'Closed') & (df1['GRIR Status'] == 'Closed'), 'Closed', 'Open')\n",
    "print('done')"
   ]
  },
  {
   "cell_type": "markdown",
   "metadata": {},
   "source": [
    "### 13. Calculate Still to be delivered (MYR-Value)\n"
   ]
  },
  {
   "cell_type": "code",
   "execution_count": 17,
   "metadata": {},
   "outputs": [
    {
     "name": "stdout",
     "output_type": "stream",
     "text": [
      "done\n"
     ]
    }
   ],
   "source": [
    "# Set USD Currency rate here.\n",
    "usd_currency_rate = 4.1\n",
    "\n",
    "df1['Still to be delivered (MYR-Value)'] = np.where(df1['Currency']== 'USD', df1['Still to be delivered (value)']*usd_currency_rate, df1['Still to be delivered (value)'])\n",
    "print('done')"
   ]
  },
  {
   "cell_type": "markdown",
   "metadata": {},
   "source": [
    "## Part B : Prepare Report\n",
    "\n",
    "### 1. Write data to excel file"
   ]
  },
  {
   "cell_type": "code",
   "execution_count": 18,
   "metadata": {},
   "outputs": [
    {
     "name": "stdout",
     "output_type": "stream",
     "text": [
      "done\n",
      "60.08488488197327\n"
     ]
    }
   ],
   "source": [
    "output_filename = 'output/output_me2l.xlsx'\n",
    "writer = pd.ExcelWriter(output_filename, engine='xlsxwriter')\n",
    "start = time.time()\n",
    "\n",
    "\n",
    "# df_final.to_excel(output_filename, sheet_name='data', engine='xlsxwriter',index=False)\n",
    "\n",
    "# df1.to_excel(output_filename, sheet_name='data', engine='xlsxwriter',index=False)\n",
    "df1.to_excel(writer, sheet_name='data',index=False)\n",
    "print('done')\n",
    "end = time.time()\n",
    "print(end - start)"
   ]
  },
  {
   "cell_type": "code",
   "execution_count": 19,
   "metadata": {},
   "outputs": [],
   "source": [
    "# start = time.time()\n",
    "# df1.to_csv('output/final_csv.csv', index=False)\n",
    "# end = time.time()\n",
    "# print(end - start)"
   ]
  },
  {
   "cell_type": "markdown",
   "metadata": {},
   "source": [
    "## Create PO Summary List\n"
   ]
  },
  {
   "cell_type": "code",
   "execution_count": 20,
   "metadata": {},
   "outputs": [],
   "source": [
    "df1['Net Order Value'] = df1['Net Order Value'].str.replace(',','')\n",
    "df1['Net Order Value']= df1['Net Order Value'].astype(float)"
   ]
  },
  {
   "cell_type": "code",
   "execution_count": 21,
   "metadata": {},
   "outputs": [],
   "source": [
    "df2 = df1.groupby(['Vendor','Purchasing Document','Capex/Opex', 'Currency','Document Date']).agg('sum')\n",
    "df2.drop(columns=['Aging Days','PO Year'],inplace=True)"
   ]
  },
  {
   "cell_type": "code",
   "execution_count": 22,
   "metadata": {},
   "outputs": [
    {
     "name": "stdout",
     "output_type": "stream",
     "text": [
      "34.275941133499146\n"
     ]
    }
   ],
   "source": [
    "start = time.time()\n",
    "df2.to_excel(writer, sheet_name='PO',merge_cells=False)\n",
    "writer.save()\n",
    "end = time.time()\n",
    "print(end - start)"
   ]
  },
  {
   "cell_type": "code",
   "execution_count": 23,
   "metadata": {},
   "outputs": [],
   "source": [
    "# df2.to_excel('output/df2.xlsx',sheet_name='PO',index=False)"
   ]
  },
  {
   "cell_type": "code",
   "execution_count": 24,
   "metadata": {},
   "outputs": [
    {
     "data": {
      "text/html": [
       "<div>\n",
       "<style scoped>\n",
       "    .dataframe tbody tr th:only-of-type {\n",
       "        vertical-align: middle;\n",
       "    }\n",
       "\n",
       "    .dataframe tbody tr th {\n",
       "        vertical-align: top;\n",
       "    }\n",
       "\n",
       "    .dataframe thead th {\n",
       "        text-align: right;\n",
       "    }\n",
       "</style>\n",
       "<table border=\"1\" class=\"dataframe\">\n",
       "  <thead>\n",
       "    <tr style=\"text-align: right;\">\n",
       "      <th></th>\n",
       "      <th></th>\n",
       "      <th></th>\n",
       "      <th></th>\n",
       "      <th></th>\n",
       "      <th>Net Order Value</th>\n",
       "      <th>Still to be delivered (value)</th>\n",
       "      <th>Still to be invoiced (val.)</th>\n",
       "      <th>Still to be delivered (MYR-Value)</th>\n",
       "    </tr>\n",
       "    <tr>\n",
       "      <th>Vendor</th>\n",
       "      <th>Purchasing Document</th>\n",
       "      <th>Capex/Opex</th>\n",
       "      <th>Currency</th>\n",
       "      <th>Document Date</th>\n",
       "      <th></th>\n",
       "      <th></th>\n",
       "      <th></th>\n",
       "      <th></th>\n",
       "    </tr>\n",
       "  </thead>\n",
       "  <tbody>\n",
       "    <tr>\n",
       "      <th>Fibrecomm Network (M) Sdn Bhd</th>\n",
       "      <th>4901344491</th>\n",
       "      <th>OPEX</th>\n",
       "      <th>MYR</th>\n",
       "      <th>21/6/2018</th>\n",
       "      <td>10000.00</td>\n",
       "      <td>0.00</td>\n",
       "      <td>0.00</td>\n",
       "      <td>0.00</td>\n",
       "    </tr>\n",
       "    <tr>\n",
       "      <th>TELEKOM MALAYSIA BERHAD</th>\n",
       "      <th>4800361190</th>\n",
       "      <th>OPEX</th>\n",
       "      <th>MYR</th>\n",
       "      <th>8/11/2019</th>\n",
       "      <td>4250.00</td>\n",
       "      <td>0.00</td>\n",
       "      <td>0.00</td>\n",
       "      <td>0.00</td>\n",
       "    </tr>\n",
       "    <tr>\n",
       "      <th rowspan=\"3\" valign=\"top\">VADS BERHAD</th>\n",
       "      <th>4800347623</th>\n",
       "      <th>OPEX</th>\n",
       "      <th>MYR</th>\n",
       "      <th>11/10/2018</th>\n",
       "      <td>21000.00</td>\n",
       "      <td>0.00</td>\n",
       "      <td>0.00</td>\n",
       "      <td>0.00</td>\n",
       "    </tr>\n",
       "    <tr>\n",
       "      <th>4800347911</th>\n",
       "      <th>OPEX</th>\n",
       "      <th>MYR</th>\n",
       "      <th>18/10/2018</th>\n",
       "      <td>34080.00</td>\n",
       "      <td>0.00</td>\n",
       "      <td>0.00</td>\n",
       "      <td>0.00</td>\n",
       "    </tr>\n",
       "    <tr>\n",
       "      <th>4800348920</th>\n",
       "      <th>OPEX</th>\n",
       "      <th>MYR</th>\n",
       "      <th>14/11/2018</th>\n",
       "      <td>4500.00</td>\n",
       "      <td>0.00</td>\n",
       "      <td>0.00</td>\n",
       "      <td>0.00</td>\n",
       "    </tr>\n",
       "    <tr>\n",
       "      <th>...</th>\n",
       "      <th>...</th>\n",
       "      <th>...</th>\n",
       "      <th>...</th>\n",
       "      <th>...</th>\n",
       "      <td>...</td>\n",
       "      <td>...</td>\n",
       "      <td>...</td>\n",
       "      <td>...</td>\n",
       "    </tr>\n",
       "    <tr>\n",
       "      <th rowspan=\"5\" valign=\"top\">C &amp; C UNIVERSAL ENGINEERING SDN. BH</th>\n",
       "      <th>4901604885</th>\n",
       "      <th>CAPEX</th>\n",
       "      <th>MYR</th>\n",
       "      <th>14/7/2020</th>\n",
       "      <td>10530.15</td>\n",
       "      <td>0.00</td>\n",
       "      <td>0.00</td>\n",
       "      <td>0.00</td>\n",
       "    </tr>\n",
       "    <tr>\n",
       "      <th>4901604887</th>\n",
       "      <th>CAPEX</th>\n",
       "      <th>MYR</th>\n",
       "      <th>14/7/2020</th>\n",
       "      <td>10530.15</td>\n",
       "      <td>10530.15</td>\n",
       "      <td>0.00</td>\n",
       "      <td>10530.15</td>\n",
       "    </tr>\n",
       "    <tr>\n",
       "      <th>4901604888</th>\n",
       "      <th>CAPEX</th>\n",
       "      <th>MYR</th>\n",
       "      <th>14/7/2020</th>\n",
       "      <td>10530.15</td>\n",
       "      <td>10530.15</td>\n",
       "      <td>0.00</td>\n",
       "      <td>10530.15</td>\n",
       "    </tr>\n",
       "    <tr>\n",
       "      <th>4901604890</th>\n",
       "      <th>CAPEX</th>\n",
       "      <th>MYR</th>\n",
       "      <th>14/7/2020</th>\n",
       "      <td>10530.15</td>\n",
       "      <td>0.00</td>\n",
       "      <td>10530.15</td>\n",
       "      <td>0.00</td>\n",
       "    </tr>\n",
       "    <tr>\n",
       "      <th>4901604891</th>\n",
       "      <th>CAPEX</th>\n",
       "      <th>MYR</th>\n",
       "      <th>14/7/2020</th>\n",
       "      <td>10530.15</td>\n",
       "      <td>10530.15</td>\n",
       "      <td>0.00</td>\n",
       "      <td>10530.15</td>\n",
       "    </tr>\n",
       "  </tbody>\n",
       "</table>\n",
       "<p>100 rows × 4 columns</p>\n",
       "</div>"
      ],
      "text/plain": [
       "                                                                                              Net Order Value  \\\n",
       "Vendor                                 Purchasing Document Capex/Opex Currency Document Date                    \n",
       "     Fibrecomm Network (M) Sdn Bhd     4901344491          OPEX       MYR      21/6/2018             10000.00   \n",
       "     TELEKOM MALAYSIA BERHAD           4800361190          OPEX       MYR      8/11/2019              4250.00   \n",
       "     VADS BERHAD                       4800347623          OPEX       MYR      11/10/2018            21000.00   \n",
       "                                       4800347911          OPEX       MYR      18/10/2018            34080.00   \n",
       "                                       4800348920          OPEX       MYR      14/11/2018             4500.00   \n",
       "...                                                                                                       ...   \n",
       "   C & C UNIVERSAL ENGINEERING SDN. BH 4901604885          CAPEX      MYR      14/7/2020             10530.15   \n",
       "                                       4901604887          CAPEX      MYR      14/7/2020             10530.15   \n",
       "                                       4901604888          CAPEX      MYR      14/7/2020             10530.15   \n",
       "                                       4901604890          CAPEX      MYR      14/7/2020             10530.15   \n",
       "                                       4901604891          CAPEX      MYR      14/7/2020             10530.15   \n",
       "\n",
       "                                                                                              Still to be delivered (value)  \\\n",
       "Vendor                                 Purchasing Document Capex/Opex Currency Document Date                                  \n",
       "     Fibrecomm Network (M) Sdn Bhd     4901344491          OPEX       MYR      21/6/2018                               0.00   \n",
       "     TELEKOM MALAYSIA BERHAD           4800361190          OPEX       MYR      8/11/2019                               0.00   \n",
       "     VADS BERHAD                       4800347623          OPEX       MYR      11/10/2018                              0.00   \n",
       "                                       4800347911          OPEX       MYR      18/10/2018                              0.00   \n",
       "                                       4800348920          OPEX       MYR      14/11/2018                              0.00   \n",
       "...                                                                                                                     ...   \n",
       "   C & C UNIVERSAL ENGINEERING SDN. BH 4901604885          CAPEX      MYR      14/7/2020                               0.00   \n",
       "                                       4901604887          CAPEX      MYR      14/7/2020                           10530.15   \n",
       "                                       4901604888          CAPEX      MYR      14/7/2020                           10530.15   \n",
       "                                       4901604890          CAPEX      MYR      14/7/2020                               0.00   \n",
       "                                       4901604891          CAPEX      MYR      14/7/2020                           10530.15   \n",
       "\n",
       "                                                                                              Still to be invoiced (val.)  \\\n",
       "Vendor                                 Purchasing Document Capex/Opex Currency Document Date                                \n",
       "     Fibrecomm Network (M) Sdn Bhd     4901344491          OPEX       MYR      21/6/2018                             0.00   \n",
       "     TELEKOM MALAYSIA BERHAD           4800361190          OPEX       MYR      8/11/2019                             0.00   \n",
       "     VADS BERHAD                       4800347623          OPEX       MYR      11/10/2018                            0.00   \n",
       "                                       4800347911          OPEX       MYR      18/10/2018                            0.00   \n",
       "                                       4800348920          OPEX       MYR      14/11/2018                            0.00   \n",
       "...                                                                                                                   ...   \n",
       "   C & C UNIVERSAL ENGINEERING SDN. BH 4901604885          CAPEX      MYR      14/7/2020                             0.00   \n",
       "                                       4901604887          CAPEX      MYR      14/7/2020                             0.00   \n",
       "                                       4901604888          CAPEX      MYR      14/7/2020                             0.00   \n",
       "                                       4901604890          CAPEX      MYR      14/7/2020                         10530.15   \n",
       "                                       4901604891          CAPEX      MYR      14/7/2020                             0.00   \n",
       "\n",
       "                                                                                              Still to be delivered (MYR-Value)  \n",
       "Vendor                                 Purchasing Document Capex/Opex Currency Document Date                                     \n",
       "     Fibrecomm Network (M) Sdn Bhd     4901344491          OPEX       MYR      21/6/2018                                   0.00  \n",
       "     TELEKOM MALAYSIA BERHAD           4800361190          OPEX       MYR      8/11/2019                                   0.00  \n",
       "     VADS BERHAD                       4800347623          OPEX       MYR      11/10/2018                                  0.00  \n",
       "                                       4800347911          OPEX       MYR      18/10/2018                                  0.00  \n",
       "                                       4800348920          OPEX       MYR      14/11/2018                                  0.00  \n",
       "...                                                                                                                         ...  \n",
       "   C & C UNIVERSAL ENGINEERING SDN. BH 4901604885          CAPEX      MYR      14/7/2020                                   0.00  \n",
       "                                       4901604887          CAPEX      MYR      14/7/2020                               10530.15  \n",
       "                                       4901604888          CAPEX      MYR      14/7/2020                               10530.15  \n",
       "                                       4901604890          CAPEX      MYR      14/7/2020                                   0.00  \n",
       "                                       4901604891          CAPEX      MYR      14/7/2020                               10530.15  \n",
       "\n",
       "[100 rows x 4 columns]"
      ]
     },
     "execution_count": 24,
     "metadata": {},
     "output_type": "execute_result"
    }
   ],
   "source": [
    "df2.head(100)"
   ]
  },
  {
   "cell_type": "code",
   "execution_count": null,
   "metadata": {},
   "outputs": [],
   "source": []
  }
 ],
 "metadata": {
  "kernelspec": {
   "display_name": "Python 3",
   "language": "python",
   "name": "python3"
  },
  "language_info": {
   "codemirror_mode": {
    "name": "ipython",
    "version": 3
   },
   "file_extension": ".py",
   "mimetype": "text/x-python",
   "name": "python",
   "nbconvert_exporter": "python",
   "pygments_lexer": "ipython3",
   "version": "3.8.5"
  }
 },
 "nbformat": 4,
 "nbformat_minor": 4
}
