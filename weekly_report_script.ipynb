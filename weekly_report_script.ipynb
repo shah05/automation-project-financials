{
 "cells": [
  {
   "cell_type": "code",
   "execution_count": 1,
   "metadata": {},
   "outputs": [],
   "source": [
    "import pandas as pd"
   ]
  },
  {
   "cell_type": "code",
   "execution_count": 2,
   "metadata": {},
   "outputs": [],
   "source": [
    "import numpy as np"
   ]
  },
  {
   "cell_type": "markdown",
   "metadata": {},
   "source": [
    "### 1. Declare input file names.\n",
    "\n",
    "File needs to be in CSV formate for faster loading.\n",
    "\n",
    "#### Input 1 = ME2L_W01.CSV\n",
    "#### Input 2 = ME2L_W02.CSV\n",
    "\n",
    "Place the 2 input files in the current directory as the script file."
   ]
  },
  {
   "cell_type": "code",
   "execution_count": 3,
   "metadata": {},
   "outputs": [],
   "source": [
    "me2l_w01_file = \"me2l_w01.csv\"\n",
    "me2l_w02_file = \"me2l_w02.csv\""
   ]
  },
  {
   "cell_type": "code",
   "execution_count": 4,
   "metadata": {},
   "outputs": [],
   "source": [
    "\n",
    "## Need to revisit this code.\n",
    "def convert_dtype(x):\n",
    "    if not x:\n",
    "        return ''\n",
    "    try:\n",
    "        return str(x)   \n",
    "    except:        \n",
    "        return ''\n",
    "\n",
    "me21_w01_columns = {\n",
    "    'Vendor/supplying plant': 'str',\n",
    "    'Outline Agreemnt': 'str',\n",
    "    'Short Text' : 'str',\n",
    "    'Currency' : 'str',\n",
    "    'Purchasing Document' : 'str',\n",
    "    'Delection Indicator' : 'str',\n",
    "    'Acct Assignment Cat.' : 'str',\n",
    "    'Req Tracking Number': 'str',\n",
    "    'Document Date': 'str',\n",
    "    'Order Quantity': 'float',\n",
    "    'Net Price': 'float',\n",
    "    'Net Order Value': 'float',\n",
    "    'Still to be delivered (qty)': 'float',\n",
    "    'Still to be delivered (value)': 'float',\n",
    "    'Still to be invoiced (qty)': 'float',\n",
    "    'Still to be delivered (val.)': 'str',  \n",
    "}"
   ]
  },
  {
   "cell_type": "markdown",
   "metadata": {},
   "source": [
    "### 2. Read input files\n",
    "\n",
    "If file contains large data sets with alot of columns, reading will take a bit of time."
   ]
  },
  {
   "cell_type": "code",
   "execution_count": 5,
   "metadata": {},
   "outputs": [
    {
     "name": "stderr",
     "output_type": "stream",
     "text": [
      "/Users/shahidanmajid/opt/anaconda3/lib/python3.8/site-packages/IPython/core/interactiveshell.py:3146: DtypeWarning: Columns (5,9,12,14) have mixed types.Specify dtype option on import or set low_memory=False.\n",
      "  has_raised = await self.run_ast_nodes(code_ast.body, cell_name,\n"
     ]
    }
   ],
   "source": [
    "# Load first input file\n",
    "df1 = pd.read_csv(me2l_w01_file,parse_dates=True)"
   ]
  },
  {
   "cell_type": "code",
   "execution_count": 6,
   "metadata": {},
   "outputs": [],
   "source": [
    "# Load second input file\n",
    "df2 = pd.read_csv(me2l_w02_file,parse_dates=True)"
   ]
  },
  {
   "cell_type": "markdown",
   "metadata": {},
   "source": [
    "### 3. Extract PO with correct CAPEX Category from ME2L_W02 \n",
    "\n",
    "Capex Category = (A, N, P, X).\n",
    "But how to check if the project is deployment,operation related ? Any keyword or vendor as filters ?"
   ]
  },
  {
   "cell_type": "code",
   "execution_count": 7,
   "metadata": {},
   "outputs": [],
   "source": [
    "capex_w02 = df2[(df2['Acct Assignment Cat.'] == 'A') |\n",
    "                (df2['Acct Assignment Cat.'] == 'N') |\n",
    "                (df2['Acct Assignment Cat.'] == 'P') |\n",
    "                (df2['Acct Assignment Cat.'] == 'X') \n",
    "               ]"
   ]
  },
  {
   "cell_type": "markdown",
   "metadata": {},
   "source": [
    "### 4. Append extraction from ME2L_W02 to ME2L_W01\n",
    "\n",
    "Data will be pasted at the bottom of ME2L_W01 data set."
   ]
  },
  {
   "cell_type": "code",
   "execution_count": 8,
   "metadata": {},
   "outputs": [],
   "source": [
    "df1.append(capex_w02);\n",
    "# df1.append(capex_w02).tail(5)"
   ]
  },
  {
   "cell_type": "markdown",
   "metadata": {},
   "source": [
    "### 5. Remove unwanted columns.\n",
    "\n",
    "This will allow processing of data faster since unwanted data is discarded.Columns removed:\n",
    "- Deletion Indicator\n",
    "- Req. Tracking Number"
   ]
  },
  {
   "cell_type": "code",
   "execution_count": 9,
   "metadata": {},
   "outputs": [],
   "source": [
    "df1.drop(columns=['Deletion Indicator','Req. Tracking Number']);"
   ]
  },
  {
   "cell_type": "markdown",
   "metadata": {},
   "source": [
    "### 6. Insert 'Vendor Code' and 'Vendor' column at the begining.\n",
    "\n",
    "Extract Vendor Code info and Vendor Name info from 'Vendor/supplying plant' column.\n",
    "\n",
    "Once this process done, remove the 'Vendor/supplying plant' column since it is redundant."
   ]
  },
  {
   "cell_type": "code",
   "execution_count": 10,
   "metadata": {},
   "outputs": [
    {
     "data": {
      "text/html": [
       "<div>\n",
       "<style scoped>\n",
       "    .dataframe tbody tr th:only-of-type {\n",
       "        vertical-align: middle;\n",
       "    }\n",
       "\n",
       "    .dataframe tbody tr th {\n",
       "        vertical-align: top;\n",
       "    }\n",
       "\n",
       "    .dataframe thead th {\n",
       "        text-align: right;\n",
       "    }\n",
       "</style>\n",
       "<table border=\"1\" class=\"dataframe\">\n",
       "  <thead>\n",
       "    <tr style=\"text-align: right;\">\n",
       "      <th></th>\n",
       "      <th>Vendor Code</th>\n",
       "      <th>Vendor</th>\n",
       "      <th>Outline Agreement</th>\n",
       "      <th>Purchasing Document</th>\n",
       "      <th>Short Text</th>\n",
       "      <th>Currency</th>\n",
       "      <th>Deletion Indicator</th>\n",
       "      <th>Acct Assignment Cat.</th>\n",
       "      <th>Req. Tracking Number</th>\n",
       "      <th>Document Date</th>\n",
       "      <th>Order Quantity</th>\n",
       "      <th>Net price</th>\n",
       "      <th>Net Order Value</th>\n",
       "      <th>Still to be delivered (qty)</th>\n",
       "      <th>Still to be delivered (value)</th>\n",
       "      <th>Still to be invoiced (qty)</th>\n",
       "      <th>Still to be invoiced (val.)</th>\n",
       "    </tr>\n",
       "  </thead>\n",
       "  <tbody>\n",
       "    <tr>\n",
       "      <th>0</th>\n",
       "      <td>1105793</td>\n",
       "      <td>TELNETINTL SDN BHD</td>\n",
       "      <td>NaN</td>\n",
       "      <td>4000016678</td>\n",
       "      <td>To supply 27M Skylift for NK2398</td>\n",
       "      <td>MYR</td>\n",
       "      <td>NaN</td>\n",
       "      <td>F</td>\n",
       "      <td>NaN</td>\n",
       "      <td>7/24/18</td>\n",
       "      <td>1</td>\n",
       "      <td>900.00</td>\n",
       "      <td>900.00</td>\n",
       "      <td>0</td>\n",
       "      <td>0.00</td>\n",
       "      <td>0</td>\n",
       "      <td>0.00</td>\n",
       "    </tr>\n",
       "    <tr>\n",
       "      <th>1</th>\n",
       "      <td>1106906</td>\n",
       "      <td>XAIR PULSECOR SDN BHD</td>\n",
       "      <td>NaN</td>\n",
       "      <td>4000016688</td>\n",
       "      <td>Fabricate, Install &amp; Welding at Site</td>\n",
       "      <td>MYR</td>\n",
       "      <td>NaN</td>\n",
       "      <td>F</td>\n",
       "      <td>NaN</td>\n",
       "      <td>7/25/18</td>\n",
       "      <td>1</td>\n",
       "      <td>2,160.00</td>\n",
       "      <td>2,160.00</td>\n",
       "      <td>0</td>\n",
       "      <td>0.00</td>\n",
       "      <td>0</td>\n",
       "      <td>0.00</td>\n",
       "    </tr>\n",
       "    <tr>\n",
       "      <th>2</th>\n",
       "      <td>1106906</td>\n",
       "      <td>XAIR PULSECOR SDN BHD</td>\n",
       "      <td>NaN</td>\n",
       "      <td>4000016688</td>\n",
       "      <td>Fabricate, Install &amp; Welding at Site</td>\n",
       "      <td>MYR</td>\n",
       "      <td>NaN</td>\n",
       "      <td>F</td>\n",
       "      <td>NaN</td>\n",
       "      <td>7/25/18</td>\n",
       "      <td>1</td>\n",
       "      <td>5,715.00</td>\n",
       "      <td>5,715.00</td>\n",
       "      <td>0</td>\n",
       "      <td>0.00</td>\n",
       "      <td>0</td>\n",
       "      <td>0.00</td>\n",
       "    </tr>\n",
       "    <tr>\n",
       "      <th>3</th>\n",
       "      <td>1106906</td>\n",
       "      <td>XAIR PULSECOR SDN BHD</td>\n",
       "      <td>NaN</td>\n",
       "      <td>4000016688</td>\n",
       "      <td>Fabricate, Install &amp; Welding at Site</td>\n",
       "      <td>MYR</td>\n",
       "      <td>NaN</td>\n",
       "      <td>F</td>\n",
       "      <td>NaN</td>\n",
       "      <td>7/25/18</td>\n",
       "      <td>1</td>\n",
       "      <td>2,340.00</td>\n",
       "      <td>2,340.00</td>\n",
       "      <td>0</td>\n",
       "      <td>0.00</td>\n",
       "      <td>0</td>\n",
       "      <td>0.00</td>\n",
       "    </tr>\n",
       "    <tr>\n",
       "      <th>4</th>\n",
       "      <td>1106906</td>\n",
       "      <td>XAIR PULSECOR SDN BHD</td>\n",
       "      <td>NaN</td>\n",
       "      <td>4000016688</td>\n",
       "      <td>Fabricate, Install &amp; Welding at Site</td>\n",
       "      <td>MYR</td>\n",
       "      <td>NaN</td>\n",
       "      <td>F</td>\n",
       "      <td>NaN</td>\n",
       "      <td>7/25/18</td>\n",
       "      <td>1</td>\n",
       "      <td>4,905.00</td>\n",
       "      <td>4,905.00</td>\n",
       "      <td>0</td>\n",
       "      <td>0.00</td>\n",
       "      <td>0</td>\n",
       "      <td>0.00</td>\n",
       "    </tr>\n",
       "    <tr>\n",
       "      <th>...</th>\n",
       "      <td>...</td>\n",
       "      <td>...</td>\n",
       "      <td>...</td>\n",
       "      <td>...</td>\n",
       "      <td>...</td>\n",
       "      <td>...</td>\n",
       "      <td>...</td>\n",
       "      <td>...</td>\n",
       "      <td>...</td>\n",
       "      <td>...</td>\n",
       "      <td>...</td>\n",
       "      <td>...</td>\n",
       "      <td>...</td>\n",
       "      <td>...</td>\n",
       "      <td>...</td>\n",
       "      <td>...</td>\n",
       "      <td>...</td>\n",
       "    </tr>\n",
       "    <tr>\n",
       "      <th>277453</th>\n",
       "      <td>1110244</td>\n",
       "      <td>INFORIENT SDN. BHD.</td>\n",
       "      <td>3.400033e+09</td>\n",
       "      <td>4901662348</td>\n",
       "      <td>PROFESSIONALSERVICES</td>\n",
       "      <td>MYR</td>\n",
       "      <td>NaN</td>\n",
       "      <td>N</td>\n",
       "      <td>200001/002</td>\n",
       "      <td>12/16/20</td>\n",
       "      <td>1</td>\n",
       "      <td>148,410.06</td>\n",
       "      <td>148,410.06</td>\n",
       "      <td>0</td>\n",
       "      <td>148,410.06</td>\n",
       "      <td>0</td>\n",
       "      <td>0.00</td>\n",
       "    </tr>\n",
       "    <tr>\n",
       "      <th>277454</th>\n",
       "      <td>1110244</td>\n",
       "      <td>INFORIENT SDN. BHD.</td>\n",
       "      <td>3.400033e+09</td>\n",
       "      <td>4901662407</td>\n",
       "      <td>E-SITES MODULE</td>\n",
       "      <td>MYR</td>\n",
       "      <td>NaN</td>\n",
       "      <td>N</td>\n",
       "      <td>200001/001</td>\n",
       "      <td>12/16/20</td>\n",
       "      <td>1</td>\n",
       "      <td>465,600.00</td>\n",
       "      <td>465,600.00</td>\n",
       "      <td>0</td>\n",
       "      <td>465,600.00</td>\n",
       "      <td>0</td>\n",
       "      <td>0.00</td>\n",
       "    </tr>\n",
       "    <tr>\n",
       "      <th>277455</th>\n",
       "      <td>1110244</td>\n",
       "      <td>INFORIENT SDN. BHD.</td>\n",
       "      <td>3.400033e+09</td>\n",
       "      <td>4901662458</td>\n",
       "      <td>TRAINING</td>\n",
       "      <td>MYR</td>\n",
       "      <td>NaN</td>\n",
       "      <td>N</td>\n",
       "      <td>200001/005</td>\n",
       "      <td>12/16/20</td>\n",
       "      <td>1</td>\n",
       "      <td>34,299.48</td>\n",
       "      <td>34,299.48</td>\n",
       "      <td>0</td>\n",
       "      <td>34,299.48</td>\n",
       "      <td>0</td>\n",
       "      <td>0.00</td>\n",
       "    </tr>\n",
       "    <tr>\n",
       "      <th>277456</th>\n",
       "      <td>1110244</td>\n",
       "      <td>INFORIENT SDN. BHD.</td>\n",
       "      <td>3.400033e+09</td>\n",
       "      <td>4901662491</td>\n",
       "      <td>PROFESSIONALSERVICES</td>\n",
       "      <td>MYR</td>\n",
       "      <td>NaN</td>\n",
       "      <td>N</td>\n",
       "      <td>200001/006</td>\n",
       "      <td>12/16/20</td>\n",
       "      <td>1</td>\n",
       "      <td>203,999.12</td>\n",
       "      <td>203,999.12</td>\n",
       "      <td>0</td>\n",
       "      <td>203,999.12</td>\n",
       "      <td>0</td>\n",
       "      <td>0.00</td>\n",
       "    </tr>\n",
       "    <tr>\n",
       "      <th>277457</th>\n",
       "      <td>1110244</td>\n",
       "      <td>INFORIENT SDN. BHD.</td>\n",
       "      <td>3.400033e+09</td>\n",
       "      <td>4901662532</td>\n",
       "      <td>E-SITES MODULE</td>\n",
       "      <td>MYR</td>\n",
       "      <td>NaN</td>\n",
       "      <td>N</td>\n",
       "      <td>200001/003</td>\n",
       "      <td>12/16/20</td>\n",
       "      <td>1</td>\n",
       "      <td>504,400.00</td>\n",
       "      <td>504,400.00</td>\n",
       "      <td>0</td>\n",
       "      <td>504,400.00</td>\n",
       "      <td>0</td>\n",
       "      <td>0.00</td>\n",
       "    </tr>\n",
       "  </tbody>\n",
       "</table>\n",
       "<p>277458 rows × 17 columns</p>\n",
       "</div>"
      ],
      "text/plain": [
       "       Vendor Code                    Vendor  Outline Agreement  \\\n",
       "0          1105793        TELNETINTL SDN BHD                NaN   \n",
       "1          1106906     XAIR PULSECOR SDN BHD                NaN   \n",
       "2          1106906     XAIR PULSECOR SDN BHD                NaN   \n",
       "3          1106906     XAIR PULSECOR SDN BHD                NaN   \n",
       "4          1106906     XAIR PULSECOR SDN BHD                NaN   \n",
       "...            ...                       ...                ...   \n",
       "277453     1110244       INFORIENT SDN. BHD.       3.400033e+09   \n",
       "277454     1110244       INFORIENT SDN. BHD.       3.400033e+09   \n",
       "277455     1110244       INFORIENT SDN. BHD.       3.400033e+09   \n",
       "277456     1110244       INFORIENT SDN. BHD.       3.400033e+09   \n",
       "277457     1110244       INFORIENT SDN. BHD.       3.400033e+09   \n",
       "\n",
       "        Purchasing Document                            Short Text Currency  \\\n",
       "0                4000016678      To supply 27M Skylift for NK2398      MYR   \n",
       "1                4000016688  Fabricate, Install & Welding at Site      MYR   \n",
       "2                4000016688  Fabricate, Install & Welding at Site      MYR   \n",
       "3                4000016688  Fabricate, Install & Welding at Site      MYR   \n",
       "4                4000016688  Fabricate, Install & Welding at Site      MYR   \n",
       "...                     ...                                   ...      ...   \n",
       "277453           4901662348                  PROFESSIONALSERVICES      MYR   \n",
       "277454           4901662407                        E-SITES MODULE      MYR   \n",
       "277455           4901662458                              TRAINING      MYR   \n",
       "277456           4901662491                  PROFESSIONALSERVICES      MYR   \n",
       "277457           4901662532                        E-SITES MODULE      MYR   \n",
       "\n",
       "       Deletion Indicator Acct Assignment Cat. Req. Tracking Number  \\\n",
       "0                     NaN                    F                  NaN   \n",
       "1                     NaN                    F                  NaN   \n",
       "2                     NaN                    F                  NaN   \n",
       "3                     NaN                    F                  NaN   \n",
       "4                     NaN                    F                  NaN   \n",
       "...                   ...                  ...                  ...   \n",
       "277453                NaN                    N           200001/002   \n",
       "277454                NaN                    N           200001/001   \n",
       "277455                NaN                    N           200001/005   \n",
       "277456                NaN                    N           200001/006   \n",
       "277457                NaN                    N           200001/003   \n",
       "\n",
       "       Document Date Order Quantity   Net price Net Order Value  \\\n",
       "0            7/24/18              1      900.00          900.00   \n",
       "1            7/25/18              1    2,160.00        2,160.00   \n",
       "2            7/25/18              1    5,715.00        5,715.00   \n",
       "3            7/25/18              1    2,340.00        2,340.00   \n",
       "4            7/25/18              1    4,905.00        4,905.00   \n",
       "...              ...            ...         ...             ...   \n",
       "277453      12/16/20              1  148,410.06      148,410.06   \n",
       "277454      12/16/20              1  465,600.00      465,600.00   \n",
       "277455      12/16/20              1   34,299.48       34,299.48   \n",
       "277456      12/16/20              1  203,999.12      203,999.12   \n",
       "277457      12/16/20              1  504,400.00      504,400.00   \n",
       "\n",
       "       Still to be delivered (qty) Still to be delivered (value)  \\\n",
       "0                                0                          0.00   \n",
       "1                                0                          0.00   \n",
       "2                                0                          0.00   \n",
       "3                                0                          0.00   \n",
       "4                                0                          0.00   \n",
       "...                            ...                           ...   \n",
       "277453                           0                    148,410.06   \n",
       "277454                           0                    465,600.00   \n",
       "277455                           0                     34,299.48   \n",
       "277456                           0                    203,999.12   \n",
       "277457                           0                    504,400.00   \n",
       "\n",
       "       Still to be invoiced (qty) Still to be invoiced (val.)  \n",
       "0                               0                        0.00  \n",
       "1                               0                        0.00  \n",
       "2                               0                        0.00  \n",
       "3                               0                        0.00  \n",
       "4                               0                        0.00  \n",
       "...                           ...                         ...  \n",
       "277453                          0                        0.00  \n",
       "277454                          0                        0.00  \n",
       "277455                          0                        0.00  \n",
       "277456                          0                        0.00  \n",
       "277457                          0                        0.00  \n",
       "\n",
       "[277458 rows x 17 columns]"
      ]
     },
     "execution_count": 10,
     "metadata": {},
     "output_type": "execute_result"
    }
   ],
   "source": [
    "new = df1[\"Vendor/supplying plant\"].str.split(\" \", n = 1, expand = True) \n",
    "df1.insert(0,'Vendor Code', new[0]);\n",
    "df1.insert(1,'Vendor', new[1]);\n",
    "df1.drop(columns=['Vendor/supplying plant'])"
   ]
  },
  {
   "cell_type": "markdown",
   "metadata": {},
   "source": [
    "### 7. Classify each PO according to CAPEX/OPEX category.\n",
    "\n",
    "Use values from 'Acc Assignment Cat.' as reference for classification.\n",
    "- CAPEX (A, N, P, X)\n",
    "- OPEX (F, K, Blank)\n",
    "\n",
    "Add a new column called 'Capex/Opex' at the end of the data set."
   ]
  },
  {
   "cell_type": "code",
   "execution_count": 11,
   "metadata": {},
   "outputs": [],
   "source": [
    "#Add Capex/Opex Category\n",
    "df1.loc[ (df1['Acct Assignment Cat.'] == 'A') |\n",
    "        (df1['Acct Assignment Cat.'] == 'N') |\n",
    "        (df1['Acct Assignment Cat.'] == 'P') |\n",
    "        (df1['Acct Assignment Cat.'] == 'X'),'Capex/Opex'] = 'CAPEX'\n",
    "\n",
    "df1.loc[ (df1['Acct Assignment Cat.'] == 'F') |\n",
    "        (df1['Acct Assignment Cat.'] == 'K') |\n",
    "        (df1['Acct Assignment Cat.'] == ''),'Capex/Opex'] = 'OPEX'"
   ]
  },
  {
   "cell_type": "markdown",
   "metadata": {},
   "source": [
    "### 8. Calculate Aging\n",
    "\n",
    "Add 2 new columns to input the Aging info:\n",
    "- 'Aging' = shows aging in number of days\n",
    "- 'Aging (Months & Days)' = shows aging in number of months and remaining days"
   ]
  },
  {
   "cell_type": "code",
   "execution_count": 12,
   "metadata": {},
   "outputs": [],
   "source": [
    "import datetime\n",
    "\n",
    "\n",
    "# df1['Document Date'] = df1['Document Date'].astype(str)\n",
    "\n",
    "for i in df1.index:\n",
    "    newDate = datetime.datetime.strptime(df1.at[i,'Document Date'], '%m/%d/%y')\n",
    "    delta = datetime.datetime.now() - newDate\n",
    "    df1.at[i, \"Aging\"] = delta.days\n",
    "    df1.at[i,'Aging'] = df1.at[i,'Aging'].astype(int) \n",
    "#     months = int(df1.at[i,\"Aging\"]/30)\n",
    "#     remaining_days = df1.at[i,\"Aging\"]%30\n",
    "#     df1.at[i,'Aging (Months & Days)'] = str(months) + ' months ' + str(remaining_days) + ' days'\n",
    "\n",
    "df1[\"Aging\"] = df1[\"Aging\"].astype(int)\n",
    "\n",
    "for i in df1.index:\n",
    "    months = int(df1.at[i,\"Aging\"]/30)\n",
    "    remaining_days = df1.at[i,\"Aging\"]%30\n",
    "    df1.at[i,'Aging (Months & Days)'] = str(months) + ' months ' + str(remaining_days) + ' days'"
   ]
  },
  {
   "cell_type": "markdown",
   "metadata": {},
   "source": [
    "### 9. Calculate Aging Category\n",
    "\n",
    "Classify each PO into the following categories:\n",
    "- ( <6 Months )\n",
    "- ( >6 Months )\n",
    "- ( >18 Months )\n",
    "\n",
    "Add a new column 'Aging Category' at the end."
   ]
  },
  {
   "cell_type": "code",
   "execution_count": 13,
   "metadata": {},
   "outputs": [],
   "source": [
    "df1.loc[ (df1['Aging'] < 182),'Aging Category'] = '<6 Months'\n",
    "df1.loc[ (df1['Aging'] > 182) & (df1['Aging'] < 540),'Aging Category'] = '>6 Months'\n",
    "df1.loc[ (df1['Aging'] > 540),'Aging Category'] = '>18 Months'"
   ]
  },
  {
   "cell_type": "markdown",
   "metadata": {},
   "source": [
    "### 10. Assign GR status\n",
    "\n",
    "Status can either be 'Open' or 'Closed' depending on there are still value to be delivered. Use the column 'Still to be delivered (value)' as reference."
   ]
  },
  {
   "cell_type": "code",
   "execution_count": 14,
   "metadata": {},
   "outputs": [],
   "source": [
    "df1['Still to be delivered (value)'] = df1['Still to be delivered (value)'].str.replace(',','')\n",
    "df1['Still to be delivered (value)'] = df1['Still to be delivered (value)'].astype(float)\n",
    "df1.loc[ (df1['Still to be delivered (value)'] > 0),'GR Status'] = 'Open'\n",
    "df1.loc[ (df1['Still to be delivered (value)'] == 0),'GR Status'] = 'Closed'"
   ]
  },
  {
   "cell_type": "markdown",
   "metadata": {},
   "source": [
    "### 11. Assign GRIR Status\n",
    "Status can be either 'Open' or 'Closed' depending on value in column 'Still to be invoiced (val.)'"
   ]
  },
  {
   "cell_type": "code",
   "execution_count": 15,
   "metadata": {},
   "outputs": [],
   "source": [
    "df1['Still to be invoiced (val.)'] = df1['Still to be invoiced (val.)'].str.replace(',','')\n",
    "df1['Still to be invoiced (val.)'] = df1['Still to be invoiced (val.)'].astype(float)\n",
    "df1.loc[ (df1['Still to be invoiced (val.)'] > -0.1) & (df1['Still to be invoiced (val.)'] < 0.1)\n",
    "        ,'GRIR Status'] = 'Closed'\n",
    "df1.loc[ (df1['Still to be invoiced (val.)'] < -0.1) | (df1['Still to be invoiced (val.)'] > 0.1)\n",
    "        ,'GRIR Status'] = 'Open'"
   ]
  },
  {
   "cell_type": "code",
   "execution_count": 16,
   "metadata": {},
   "outputs": [],
   "source": [
    "df1.loc[ (df1['GR Status'] == 'Closed') & (df1['GRIR Status'] == 'Closed'),'PO Status'] = 'Closed'\n",
    "df1.loc[ (df1['GR Status'] == 'Open') | (df1['GRIR Status'] == 'Open'),'PO Status'] = 'Open'"
   ]
  },
  {
   "cell_type": "markdown",
   "metadata": {},
   "source": [
    "### 12. Assign PO Category\n"
   ]
  },
  {
   "cell_type": "code",
   "execution_count": 19,
   "metadata": {},
   "outputs": [],
   "source": [
    "df2 = df1.drop(columns=['Outline Agreement']);"
   ]
  },
  {
   "cell_type": "code",
   "execution_count": 20,
   "metadata": {},
   "outputs": [
    {
     "data": {
      "text/plain": [
       "Index(['Vendor Code', 'Vendor', 'Vendor/supplying plant',\n",
       "       'Purchasing Document', 'Short Text', 'Currency', 'Deletion Indicator',\n",
       "       'Acct Assignment Cat.', 'Req. Tracking Number', 'Document Date',\n",
       "       'Order Quantity', 'Net price', 'Net Order Value',\n",
       "       'Still to be delivered (qty)', 'Still to be delivered (value)',\n",
       "       'Still to be invoiced (qty)', 'Still to be invoiced (val.)',\n",
       "       'Capex/Opex', 'Aging', 'Aging (Months & Days)', 'Aging Category',\n",
       "       'GR Status', 'GRIR Status', 'PO Status'],\n",
       "      dtype='object')"
      ]
     },
     "execution_count": 20,
     "metadata": {},
     "output_type": "execute_result"
    }
   ],
   "source": [
    "df2.columns"
   ]
  },
  {
   "cell_type": "code",
   "execution_count": null,
   "metadata": {},
   "outputs": [],
   "source": []
  }
 ],
 "metadata": {
  "kernelspec": {
   "display_name": "Python 3",
   "language": "python",
   "name": "python3"
  },
  "language_info": {
   "codemirror_mode": {
    "name": "ipython",
    "version": 3
   },
   "file_extension": ".py",
   "mimetype": "text/x-python",
   "name": "python",
   "nbconvert_exporter": "python",
   "pygments_lexer": "ipython3",
   "version": "3.8.5"
  }
 },
 "nbformat": 4,
 "nbformat_minor": 4
}
